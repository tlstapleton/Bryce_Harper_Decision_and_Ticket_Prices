{
 "cells": [
  {
   "cell_type": "code",
   "execution_count": 1,
   "metadata": {},
   "outputs": [],
   "source": [
    "import requests\n",
    "import urllib\n",
    "import json\n",
    "import pandas as pd\n",
    "from config import client_id"
   ]
  },
  {
   "cell_type": "code",
   "execution_count": 2,
   "metadata": {},
   "outputs": [],
   "source": [
    "url='https://api.seatgeek.com/2/events?performers.slug=washington-nationals&client_id='+client_id\n",
    "response=requests.get(url)\n",
    "json=response.json()"
   ]
  },
  {
   "cell_type": "code",
   "execution_count": 3,
   "metadata": {},
   "outputs": [],
   "source": [
    "total_results=json['meta']['total']"
   ]
  },
  {
   "cell_type": "code",
   "execution_count": 4,
   "metadata": {},
   "outputs": [],
   "source": [
    "all_results_url=f'https://api.seatgeek.com/2/events?performers.slug=washington-nationals&per_page={total_results}&client_id={client_id}'"
   ]
  },
  {
   "cell_type": "code",
   "execution_count": 5,
   "metadata": {},
   "outputs": [],
   "source": [
    "all_response=requests.get(all_results_url)\n",
    "all_json=all_response.json()"
   ]
  },
  {
   "cell_type": "code",
   "execution_count": 6,
   "metadata": {},
   "outputs": [],
   "source": [
    "date=[]\n",
    "team=[]\n",
    "median_price=[]\n",
    "event_title=[]\n",
    "for i in range(len(all_json['events'])):\n",
    "    date.append(all_json['events'][i]['datetime_local'])\n",
    "    if all_json['events'][i]['performers'][0]['name'] != 'Washington Nationals':\n",
    "        team.append(all_json['events'][i]['performers'][0]['name'])\n",
    "    else:\n",
    "        team.append(all_json['events'][i]['performers'][1]['name'])\n",
    "    event_title.append(all_json['events'][i]['title'])\n",
    "    median_price.append(all_json['events'][i]['stats']['median_price'])"
   ]
  },
  {
   "cell_type": "code",
   "execution_count": 7,
   "metadata": {},
   "outputs": [],
   "source": [
    "nats_season=pd.DataFrame({'event':event_title,'datetime':date,'opponent':team, 'median_ticket_price':median_price})"
   ]
  },
  {
   "cell_type": "code",
   "execution_count": 8,
   "metadata": {},
   "outputs": [],
   "source": [
    "nats_season['date']=nats_season['datetime'].astype(str).apply(lambda x: x[:10])"
   ]
  },
  {
   "cell_type": "code",
   "execution_count": 9,
   "metadata": {},
   "outputs": [],
   "source": [
    "nats_season['time']=nats_season['datetime'].astype(str).apply(lambda x: x[11:16])"
   ]
  },
  {
   "cell_type": "code",
   "execution_count": 10,
   "metadata": {},
   "outputs": [],
   "source": [
    "nats_season.to_csv('Before_Bryce_Harper_Decision.csv')"
   ]
  },
  {
   "cell_type": "code",
   "execution_count": null,
   "metadata": {},
   "outputs": [],
   "source": []
  }
 ],
 "metadata": {
  "kernelspec": {
   "display_name": "Python 3",
   "language": "python",
   "name": "python3"
  },
  "language_info": {
   "codemirror_mode": {
    "name": "ipython",
    "version": 3
   },
   "file_extension": ".py",
   "mimetype": "text/x-python",
   "name": "python",
   "nbconvert_exporter": "python",
   "pygments_lexer": "ipython3",
   "version": "3.7.0"
  }
 },
 "nbformat": 4,
 "nbformat_minor": 2
}

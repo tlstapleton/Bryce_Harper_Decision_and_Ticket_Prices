{
 "cells": [
  {
   "cell_type": "code",
   "execution_count": null,
   "metadata": {},
   "outputs": [],
   "source": [
    "import pandas as pd\n",
    "import numpy as np\n",
    "import plotly as py\n",
    "import plotly.graph_objs as go\n",
    "py.offline.init_notebook_mode(connected=True)\n",
    "from scipy.signal import argrelextrema\n",
    "import datetime\n",
    "import plotly.io as pio"
   ]
  },
  {
   "cell_type": "code",
   "execution_count": null,
   "metadata": {},
   "outputs": [],
   "source": [
    "phils_season=pd.read_csv('Before_Bryce_Harper_Decision_Phillies.csv')"
   ]
  },
  {
   "cell_type": "code",
   "execution_count": null,
   "metadata": {},
   "outputs": [],
   "source": [
    "phils_season"
   ]
  },
  {
   "cell_type": "code",
   "execution_count": null,
   "metadata": {},
   "outputs": [],
   "source": [
    "\n",
    "x = phils_season['date']\n",
    "y = phils_season['median_ticket_price']\n",
    "\n",
    "trace = go.Scatter(\n",
    "    x = x,\n",
    "    y = y,\n",
    "    line = dict(\n",
    "    color = 'red')\n",
    ")\n",
    "\n",
    "title=f'Median Ticket Prices of Philadelphia Phillies Games: {datetime.datetime.today().strftime(\"%Y-%m-%d\")}'\n",
    "\n",
    "layout = {'title':title,\n",
    "          'yaxis': {\n",
    "        'title': 'Median Ticket Price ($)'\n",
    "    },\n",
    "    'shapes': [\n",
    "        # Line Vertical\n",
    "        {\n",
    "            'type': 'line',\n",
    "            'x0': '2019-03-28',\n",
    "            'x1':'2019-03-28',\n",
    "            'y0': 0,\n",
    "            'y1':250,\n",
    "            'line': {\n",
    "                'color': 'green',\n",
    "                'width': 3,\n",
    "                'dash':'dashdot'\n",
    "            },\n",
    "        }\n",
    "       \n",
    "    ]\n",
    "}\n",
    "\n",
    "data = [trace]\n",
    "fig = {\n",
    "    'data': data,\n",
    "    'layout': layout,\n",
    "}\n",
    "py.offline.iplot(fig)\n",
    "pio.write_image(fig, 'Images/phils_all_games.png')"
   ]
  },
  {
   "cell_type": "code",
   "execution_count": null,
   "metadata": {},
   "outputs": [],
   "source": [
    "local_maxima=argrelextrema(phils_season['median_ticket_price'].values, np.greater)\n",
    "phils_season.iloc[local_maxima]"
   ]
  },
  {
   "cell_type": "code",
   "execution_count": null,
   "metadata": {
    "scrolled": false
   },
   "outputs": [],
   "source": [
    "reg_season=phils_season[phils_season['date']>='2019-03-28']"
   ]
  },
  {
   "cell_type": "code",
   "execution_count": null,
   "metadata": {},
   "outputs": [],
   "source": [
    "avg_price_by_opp=pd.DataFrame(reg_season.groupby(['opponent'])['median_ticket_price'].mean())"
   ]
  },
  {
   "cell_type": "code",
   "execution_count": null,
   "metadata": {},
   "outputs": [],
   "source": [
    "# avg_price_by_opp"
   ]
  },
  {
   "cell_type": "code",
   "execution_count": null,
   "metadata": {},
   "outputs": [],
   "source": [
    "avg_price_by_opp.reset_index(inplace=True)"
   ]
  },
  {
   "cell_type": "code",
   "execution_count": null,
   "metadata": {},
   "outputs": [],
   "source": [
    "formatted_price=[]\n",
    "for i in range(len(avg_price_by_opp['median_ticket_price'])):\n",
    "    formatted_price.append('${:,.2f}'.format(avg_price_by_opp['median_ticket_price'][i]))\n",
    "avg_price_by_opp['formatted_median_ticket_price']=formatted_price"
   ]
  },
  {
   "cell_type": "code",
   "execution_count": null,
   "metadata": {},
   "outputs": [],
   "source": [
    "avg_price_by_opp.sort_values(['median_ticket_price'],inplace=True)"
   ]
  },
  {
   "cell_type": "code",
   "execution_count": null,
   "metadata": {},
   "outputs": [],
   "source": [
    "data = [go.Bar(\n",
    "            x=avg_price_by_opp['opponent'],\n",
    "            y=avg_price_by_opp['median_ticket_price'],\n",
    "            text=(avg_price_by_opp['formatted_median_ticket_price']),\n",
    "            textposition = 'auto',\n",
    "            marker=dict(\n",
    "                color='red',\n",
    "                line=dict(\n",
    "                    color='rgb(8,48,107)',\n",
    "                    width=1.5),\n",
    "                opacity=0.6\n",
    "            ))]\n",
    "layout = go.Layout(\n",
    "    title='Average of Median Ticket Prices for All Phillies Games by Opponent',\n",
    "    yaxis=dict(\n",
    "        title='Average Ticket Price ($)',\n",
    "        tickangle=45\n",
    "    )\n",
    ")\n",
    "\n",
    "fig = go.Figure(data=data, layout=layout)\n",
    "py.offline.iplot(fig)\n",
    "pio.write_image(fig, 'Images/phils_allopponents.png', width=1000)"
   ]
  },
  {
   "cell_type": "code",
   "execution_count": null,
   "metadata": {},
   "outputs": [],
   "source": [
    "phils_home=reg_season[reg_season['phillies_home_away']=='Home']"
   ]
  },
  {
   "cell_type": "code",
   "execution_count": null,
   "metadata": {},
   "outputs": [],
   "source": [
    "home_price_by_opp=pd.DataFrame(phils_home.groupby(['opponent'])['median_ticket_price'].mean())\n",
    "home_price_by_opp.reset_index(inplace=True)"
   ]
  },
  {
   "cell_type": "code",
   "execution_count": null,
   "metadata": {},
   "outputs": [],
   "source": [
    "formatted_price=[]\n",
    "for i in range(len(home_price_by_opp['median_ticket_price'])):\n",
    "    formatted_price.append('${:,.2f}'.format(home_price_by_opp['median_ticket_price'][i]))\n",
    "home_price_by_opp['formatted_median_ticket_price']=formatted_price"
   ]
  },
  {
   "cell_type": "code",
   "execution_count": null,
   "metadata": {},
   "outputs": [],
   "source": [
    "home_price_by_opp.sort_values(['median_ticket_price'],inplace=True)"
   ]
  },
  {
   "cell_type": "code",
   "execution_count": null,
   "metadata": {},
   "outputs": [],
   "source": [
    "data = [go.Bar(\n",
    "            x=home_price_by_opp['opponent'],\n",
    "            y=home_price_by_opp['median_ticket_price'],\n",
    "            text=(home_price_by_opp['formatted_median_ticket_price']),\n",
    "            textposition = 'auto',\n",
    "            marker=dict(\n",
    "                color='red',\n",
    "                line=dict(\n",
    "                    color='rgb(8,48,107)',\n",
    "                    width=1.5),\n",
    "                opacity=0.6\n",
    "            ))]\n",
    "layout = go.Layout(\n",
    "    title='Average of Median Ticket Prices for Phillies\\' Home Games by Opponent',\n",
    "    yaxis=dict(\n",
    "        title='Average Ticket Price ($)',\n",
    "        tickangle=45\n",
    "    )\n",
    ")\n",
    "\n",
    "fig = go.Figure(data=data, layout=layout)\n",
    "py.offline.iplot(fig)\n",
    "pio.write_image(fig, 'Images/phils_homeopponents.png')"
   ]
  },
  {
   "cell_type": "code",
   "execution_count": null,
   "metadata": {},
   "outputs": [],
   "source": [
    "phils_away=reg_season[reg_season['phillies_home_away']=='Away']\n",
    "away_price_by_opp=pd.DataFrame(phils_away.groupby(['opponent'])['median_ticket_price'].mean())\n",
    "away_price_by_opp.reset_index(inplace=True)\n",
    "formatted_price=[]\n",
    "for i in range(len(away_price_by_opp['median_ticket_price'])):\n",
    "    formatted_price.append('${:,.2f}'.format(away_price_by_opp['median_ticket_price'][i]))\n",
    "away_price_by_opp['formatted_median_ticket_price']=formatted_price"
   ]
  },
  {
   "cell_type": "code",
   "execution_count": null,
   "metadata": {},
   "outputs": [],
   "source": [
    "away_price_by_opp.sort_values(['median_ticket_price'],inplace=True)"
   ]
  },
  {
   "cell_type": "code",
   "execution_count": null,
   "metadata": {
    "scrolled": true
   },
   "outputs": [],
   "source": [
    "data = [go.Bar(\n",
    "            x=away_price_by_opp['opponent'],\n",
    "            y=away_price_by_opp['median_ticket_price'],\n",
    "            text=(away_price_by_opp['formatted_median_ticket_price']),\n",
    "            textposition = 'auto',\n",
    "            marker=dict(\n",
    "                color='red',\n",
    "                line=dict(\n",
    "                    color='rgb(8,48,107)',\n",
    "                    width=1.5),\n",
    "                opacity=0.6\n",
    "            ))]\n",
    "layout = go.Layout(\n",
    "    title='Average of Median Ticket Prices for Phillies\\' Away Games by Opponent',\n",
    "    yaxis=dict(\n",
    "        title='Average Ticket Price ($)',\n",
    "        tickangle=45\n",
    "    )\n",
    ")\n",
    "\n",
    "fig = go.Figure(data=data, layout=layout)\n",
    "py.offline.iplot(fig)\n",
    "pio.write_image(fig, 'Images/phils_awayopponents.png')"
   ]
  },
  {
   "cell_type": "code",
   "execution_count": null,
   "metadata": {},
   "outputs": [],
   "source": []
  }
 ],
 "metadata": {
  "kernelspec": {
   "display_name": "Python 3",
   "language": "python",
   "name": "python3"
  },
  "language_info": {
   "codemirror_mode": {
    "name": "ipython",
    "version": 3
   },
   "file_extension": ".py",
   "mimetype": "text/x-python",
   "name": "python",
   "nbconvert_exporter": "python",
   "pygments_lexer": "ipython3",
   "version": "3.7.0"
  }
 },
 "nbformat": 4,
 "nbformat_minor": 2
}

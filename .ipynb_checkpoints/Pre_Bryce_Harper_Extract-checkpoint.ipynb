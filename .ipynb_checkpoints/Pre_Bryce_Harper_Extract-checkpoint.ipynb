{
 "cells": [
  {
   "cell_type": "code",
   "execution_count": null,
   "metadata": {},
   "outputs": [],
   "source": [
    "import requests\n",
    "import urllib\n",
    "import json\n",
    "import pandas as pd\n",
    "from config import client_id"
   ]
  },
  {
   "cell_type": "markdown",
   "metadata": {},
   "source": [
    "# Nationals Games"
   ]
  },
  {
   "cell_type": "code",
   "execution_count": null,
   "metadata": {},
   "outputs": [],
   "source": [
    "url='https://api.seatgeek.com/2/events?performers.slug=washington-nationals&client_id='+client_id\n",
    "response=requests.get(url)\n",
    "json=response.json()"
   ]
  },
  {
   "cell_type": "code",
   "execution_count": null,
   "metadata": {},
   "outputs": [],
   "source": [
    "total_results=json['meta']['total']"
   ]
  },
  {
   "cell_type": "code",
   "execution_count": null,
   "metadata": {},
   "outputs": [],
   "source": [
    "all_results_url=f'https://api.seatgeek.com/2/events?performers.slug=washington-nationals&per_page={total_results}&client_id={client_id}'"
   ]
  },
  {
   "cell_type": "code",
   "execution_count": null,
   "metadata": {},
   "outputs": [],
   "source": [
    "all_response=requests.get(all_results_url)\n",
    "all_json=all_response.json()"
   ]
  },
  {
   "cell_type": "code",
   "execution_count": null,
   "metadata": {},
   "outputs": [],
   "source": [
    "date=[]\n",
    "team=[]\n",
    "median_price=[]\n",
    "event_title=[]\n",
    "nats_home_away=[]\n",
    "for i in range(len(all_json['events'])):\n",
    "    date.append(all_json['events'][i]['datetime_local'])\n",
    "    if all_json['events'][i]['performers'][0]['name'] != 'Washington Nationals':\n",
    "        team.append(all_json['events'][i]['performers'][0]['name'])\n",
    "    else:\n",
    "        team.append(all_json['events'][i]['performers'][1]['name'])\n",
    "    event_title.append(all_json['events'][i]['title'])\n",
    "    median_price.append(all_json['events'][i]['stats']['median_price'])\n",
    "    if \"Spring Training\" in all_json['events'][i]['title']:\n",
    "        nats_home_away.append('Spring Training')\n",
    "    elif all_json['events'][i]['venue']['name_v2']=='Nationals Park':\n",
    "        nats_home_away.append('Home')\n",
    "    else:\n",
    "        nats_home_away.append('Away')"
   ]
  },
  {
   "cell_type": "code",
   "execution_count": null,
   "metadata": {},
   "outputs": [],
   "source": [
    "nats_season=pd.DataFrame({'event':event_title,'datetime':date,'opponent':team, 'median_ticket_price':median_price, 'nats_home_away':nats_home_away})"
   ]
  },
  {
   "cell_type": "code",
   "execution_count": null,
   "metadata": {},
   "outputs": [],
   "source": [
    "nats_season['date']=nats_season['datetime'].astype(str).apply(lambda x: x[:10])"
   ]
  },
  {
   "cell_type": "code",
   "execution_count": null,
   "metadata": {},
   "outputs": [],
   "source": [
    "nats_season['time']=nats_season['datetime'].astype(str).apply(lambda x: x[11:16])"
   ]
  },
  {
   "cell_type": "code",
   "execution_count": null,
   "metadata": {},
   "outputs": [],
   "source": [
    "nats_season"
   ]
  },
  {
   "cell_type": "code",
   "execution_count": null,
   "metadata": {},
   "outputs": [],
   "source": [
    "nats_season.to_csv('Before_Bryce_Harper_Decision_Nats.csv')"
   ]
  },
  {
   "cell_type": "markdown",
   "metadata": {},
   "source": [
    "# Phillies Games"
   ]
  },
  {
   "cell_type": "code",
   "execution_count": null,
   "metadata": {},
   "outputs": [],
   "source": [
    "url='https://api.seatgeek.com/2/events?performers.slug=philadelphia-phillies&client_id='+client_id\n",
    "response=requests.get(url)\n",
    "json=response.json()"
   ]
  },
  {
   "cell_type": "code",
   "execution_count": null,
   "metadata": {},
   "outputs": [],
   "source": [
    "total_results=json['meta']['total']"
   ]
  },
  {
   "cell_type": "code",
   "execution_count": null,
   "metadata": {},
   "outputs": [],
   "source": [
    "all_results_url=f'https://api.seatgeek.com/2/events?performers.slug=philadelphia-phillies&per_page={total_results}&client_id={client_id}'"
   ]
  },
  {
   "cell_type": "code",
   "execution_count": null,
   "metadata": {},
   "outputs": [],
   "source": [
    "all_response=requests.get(all_results_url)\n",
    "all_json=all_response.json()"
   ]
  },
  {
   "cell_type": "code",
   "execution_count": null,
   "metadata": {},
   "outputs": [],
   "source": [
    "date=[]\n",
    "team=[]\n",
    "median_price=[]\n",
    "event_title=[]\n",
    "phils_home_away=[]\n",
    "for i in range(len(all_json['events'])):\n",
    "    date.append(all_json['events'][i]['datetime_local'])\n",
    "    if all_json['events'][i]['performers'][0]['name'] != 'Philadelphia Phillies':\n",
    "        team.append(all_json['events'][i]['performers'][0]['name'])\n",
    "    else:\n",
    "        team.append(all_json['events'][i]['performers'][1]['name'])\n",
    "    event_title.append(all_json['events'][i]['title'])\n",
    "    median_price.append(all_json['events'][i]['stats']['median_price'])\n",
    "    if \"Spring Training\" in all_json['events'][i]['title']:\n",
    "        phils_home_away.append('Spring Training')\n",
    "    elif all_json['events'][i]['venue']['name_v2']=='Citizens Bank Park':\n",
    "        phils_home_away.append('Home')\n",
    "    else:\n",
    "        phils_home_away.append('Away')"
   ]
  },
  {
   "cell_type": "code",
   "execution_count": null,
   "metadata": {},
   "outputs": [],
   "source": [
    "phils_season=pd.DataFrame({'event':event_title,'datetime':date,'opponent':team, 'median_ticket_price':median_price, 'phillies_home_away':phils_home_away})"
   ]
  },
  {
   "cell_type": "code",
   "execution_count": null,
   "metadata": {},
   "outputs": [],
   "source": [
    "phils_season['date']=phils_season['datetime'].astype(str).apply(lambda x: x[:10])"
   ]
  },
  {
   "cell_type": "code",
   "execution_count": null,
   "metadata": {},
   "outputs": [],
   "source": [
    "phils_season['time']=phils_season['datetime'].astype(str).apply(lambda x: x[11:16])"
   ]
  },
  {
   "cell_type": "code",
   "execution_count": null,
   "metadata": {},
   "outputs": [],
   "source": [
    "phils_season"
   ]
  },
  {
   "cell_type": "code",
   "execution_count": null,
   "metadata": {},
   "outputs": [],
   "source": [
    "phils_season.to_csv('Before_Bryce_Harper_Decision_Phillies.csv')"
   ]
  },
  {
   "cell_type": "markdown",
   "metadata": {},
   "source": [
    "# Dodgers Games"
   ]
  },
  {
   "cell_type": "code",
   "execution_count": null,
   "metadata": {},
   "outputs": [],
   "source": [
    "url='https://api.seatgeek.com/2/events?performers.slug=los-angeles-dodgers&client_id='+client_id\n",
    "response=requests.get(url)\n",
    "json=response.json()"
   ]
  },
  {
   "cell_type": "code",
   "execution_count": null,
   "metadata": {},
   "outputs": [],
   "source": [
    "total_results=json['meta']['total']"
   ]
  },
  {
   "cell_type": "code",
   "execution_count": null,
   "metadata": {},
   "outputs": [],
   "source": [
    "all_results_url=f'https://api.seatgeek.com/2/events?performers.slug=los-angeles-dodgers&per_page={total_results}&client_id={client_id}'"
   ]
  },
  {
   "cell_type": "code",
   "execution_count": null,
   "metadata": {},
   "outputs": [],
   "source": [
    "all_response=requests.get(all_results_url)\n",
    "all_json=all_response.json()"
   ]
  },
  {
   "cell_type": "code",
   "execution_count": null,
   "metadata": {},
   "outputs": [],
   "source": [
    "date=[]\n",
    "team=[]\n",
    "median_price=[]\n",
    "event_title=[]\n",
    "dod_home_away=[]\n",
    "for i in range(len(all_json['events'])):\n",
    "    date.append(all_json['events'][i]['datetime_local'])\n",
    "    if all_json['events'][i]['performers'][0]['name'] != 'Los Angeles Dodgers':\n",
    "        team.append(all_json['events'][i]['performers'][0]['name'])\n",
    "    else:\n",
    "        team.append(all_json['events'][i]['performers'][1]['name'])\n",
    "    event_title.append(all_json['events'][i]['title'])\n",
    "    median_price.append(all_json['events'][i]['stats']['median_price'])\n",
    "    if \"Spring Training\" in all_json['events'][i]['title']:\n",
    "        dod_home_away.append('Spring Training')\n",
    "    elif all_json['events'][i]['venue']['name_v2']=='Dodger Stadium':\n",
    "        dod_home_away.append('Home')\n",
    "    else:\n",
    "        dod_home_away.append('Away')"
   ]
  },
  {
   "cell_type": "code",
   "execution_count": null,
   "metadata": {},
   "outputs": [],
   "source": [
    "dodgers_season=pd.DataFrame({'event':event_title,'datetime':date,'opponent':team, 'median_ticket_price':median_price, 'dodgers_home_away':dod_home_away})"
   ]
  },
  {
   "cell_type": "code",
   "execution_count": null,
   "metadata": {},
   "outputs": [],
   "source": [
    "dodgers_season['date']=dodgers_season['datetime'].astype(str).apply(lambda x: x[:10])"
   ]
  },
  {
   "cell_type": "code",
   "execution_count": null,
   "metadata": {},
   "outputs": [],
   "source": [
    "dodgers_season['time']=dodgers_season['datetime'].astype(str).apply(lambda x: x[11:16])"
   ]
  },
  {
   "cell_type": "code",
   "execution_count": null,
   "metadata": {},
   "outputs": [],
   "source": [
    "dodgers_season"
   ]
  },
  {
   "cell_type": "code",
   "execution_count": null,
   "metadata": {},
   "outputs": [],
   "source": [
    "dodgers_season.to_csv('Before_Bryce_Harper_Decision_Dodgers.csv')"
   ]
  }
 ],
 "metadata": {
  "kernelspec": {
   "display_name": "Python 3",
   "language": "python",
   "name": "python3"
  },
  "language_info": {
   "codemirror_mode": {
    "name": "ipython",
    "version": 3
   },
   "file_extension": ".py",
   "mimetype": "text/x-python",
   "name": "python",
   "nbconvert_exporter": "python",
   "pygments_lexer": "ipython3",
   "version": "3.7.0"
  }
 },
 "nbformat": 4,
 "nbformat_minor": 2
}
